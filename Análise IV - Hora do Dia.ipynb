{
 "cells": [
  {
   "cell_type": "markdown",
   "id": "5dc49911",
   "metadata": {},
   "source": [
    "# Análise IV - Hora do Dia"
   ]
  },
  {
   "cell_type": "code",
   "execution_count": 7,
   "id": "5ff80844",
   "metadata": {},
   "outputs": [
    {
     "data": {
      "text/html": [
       "<div>\n",
       "<style scoped>\n",
       "    .dataframe tbody tr th:only-of-type {\n",
       "        vertical-align: middle;\n",
       "    }\n",
       "\n",
       "    .dataframe tbody tr th {\n",
       "        vertical-align: top;\n",
       "    }\n",
       "\n",
       "    .dataframe thead th {\n",
       "        text-align: right;\n",
       "    }\n",
       "</style>\n",
       "<table border=\"1\" class=\"dataframe\">\n",
       "  <thead>\n",
       "    <tr style=\"text-align: right;\">\n",
       "      <th></th>\n",
       "      <th>valor_da_conta</th>\n",
       "      <th>gorjeta</th>\n",
       "      <th>sobremesa</th>\n",
       "      <th>dia_da_semana</th>\n",
       "      <th>hora_do_dia</th>\n",
       "      <th>total_de_pessoas</th>\n",
       "      <th>porcentagem</th>\n",
       "    </tr>\n",
       "  </thead>\n",
       "  <tbody>\n",
       "    <tr>\n",
       "      <th>0</th>\n",
       "      <td>16.99</td>\n",
       "      <td>1.01</td>\n",
       "      <td>Não</td>\n",
       "      <td>Domingo</td>\n",
       "      <td>Jantar</td>\n",
       "      <td>2</td>\n",
       "      <td>0.059447</td>\n",
       "    </tr>\n",
       "    <tr>\n",
       "      <th>1</th>\n",
       "      <td>10.34</td>\n",
       "      <td>1.66</td>\n",
       "      <td>Não</td>\n",
       "      <td>Domingo</td>\n",
       "      <td>Jantar</td>\n",
       "      <td>3</td>\n",
       "      <td>0.160542</td>\n",
       "    </tr>\n",
       "    <tr>\n",
       "      <th>2</th>\n",
       "      <td>21.01</td>\n",
       "      <td>3.50</td>\n",
       "      <td>Não</td>\n",
       "      <td>Domingo</td>\n",
       "      <td>Jantar</td>\n",
       "      <td>3</td>\n",
       "      <td>0.166587</td>\n",
       "    </tr>\n",
       "    <tr>\n",
       "      <th>3</th>\n",
       "      <td>23.68</td>\n",
       "      <td>3.31</td>\n",
       "      <td>Não</td>\n",
       "      <td>Domingo</td>\n",
       "      <td>Jantar</td>\n",
       "      <td>2</td>\n",
       "      <td>0.139780</td>\n",
       "    </tr>\n",
       "    <tr>\n",
       "      <th>4</th>\n",
       "      <td>24.59</td>\n",
       "      <td>3.61</td>\n",
       "      <td>Não</td>\n",
       "      <td>Domingo</td>\n",
       "      <td>Jantar</td>\n",
       "      <td>4</td>\n",
       "      <td>0.146808</td>\n",
       "    </tr>\n",
       "  </tbody>\n",
       "</table>\n",
       "</div>"
      ],
      "text/plain": [
       "   valor_da_conta  gorjeta sobremesa dia_da_semana hora_do_dia  \\\n",
       "0           16.99     1.01       Não       Domingo      Jantar   \n",
       "1           10.34     1.66       Não       Domingo      Jantar   \n",
       "2           21.01     3.50       Não       Domingo      Jantar   \n",
       "3           23.68     3.31       Não       Domingo      Jantar   \n",
       "4           24.59     3.61       Não       Domingo      Jantar   \n",
       "\n",
       "   total_de_pessoas  porcentagem  \n",
       "0                 2     0.059447  \n",
       "1                 3     0.160542  \n",
       "2                 3     0.166587  \n",
       "3                 2     0.139780  \n",
       "4                 4     0.146808  "
      ]
     },
     "execution_count": 7,
     "metadata": {},
     "output_type": "execute_result"
    }
   ],
   "source": [
    "import pandas as pd\n",
    "import seaborn as sns\n",
    "from scipy.stats import ranksums\n",
    "gorjetas = pd.read_csv('arquivo/gorjetas.csv')\n",
    "gorjetas.head()"
   ]
  },
  {
   "cell_type": "code",
   "execution_count": 9,
   "id": "b284a5d2",
   "metadata": {},
   "outputs": [
    {
     "data": {
      "text/plain": [
       "array(['Jantar', 'Almoço'], dtype=object)"
      ]
     },
     "execution_count": 9,
     "metadata": {},
     "output_type": "execute_result"
    }
   ],
   "source": [
    "gorjetas.hora_do_dia.unique()"
   ]
  },
  {
   "cell_type": "code",
   "execution_count": 12,
   "id": "6f0392b0",
   "metadata": {},
   "outputs": [
    {
     "data": {
      "text/plain": [
       "<seaborn.axisgrid.FacetGrid at 0x1aaccd91060>"
      ]
     },
     "execution_count": 12,
     "metadata": {},
     "output_type": "execute_result"
    },
    {
     "data": {
      "image/png": "[encoded data removed]",
      "text/plain": [
       "<Figure size 360x360 with 1 Axes>"
      ]
     },
     "metadata": {
      "needs_background": "light"
     },
     "output_type": "display_data"
    }
   ],
   "source": [
    "sns.catplot(x='hora_do_dia', y='valor_da_conta', kind='swarm', data=gorjetas)"
   ]
  },
  {
   "cell_type": "code",
   "execution_count": 13,
   "id": "92e1d68c",
   "metadata": {},
   "outputs": [
    {
     "data": {
      "text/plain": [
       "<AxesSubplot:xlabel='hora_do_dia', ylabel='valor_da_conta'>"
      ]
     },
     "execution_count": 13,
     "metadata": {},
     "output_type": "execute_result"
    },
    {
     "data": {
      "image/png": "[encoded data removed]",
      "text/plain": [
       "<Figure size 432x288 with 1 Axes>"
      ]
     },
     "metadata": {
      "needs_background": "light"
     },
     "output_type": "display_data"
    }
   ],
   "source": [
    "sns.violinplot(x='hora_do_dia', y='valor_da_conta', data=gorjetas)"
   ]
  },
  {
   "cell_type": "code",
   "execution_count": 14,
   "id": "06b978ed",
   "metadata": {},
   "outputs": [
    {
     "data": {
      "text/plain": [
       "<AxesSubplot:xlabel='hora_do_dia', ylabel='valor_da_conta'>"
      ]
     },
     "execution_count": 14,
     "metadata": {},
     "output_type": "execute_result"
    },
    {
     "data": {
      "image/png": "[encoded data removed]",
      "text/plain": [
       "<Figure size 432x288 with 1 Axes>"
      ]
     },
     "metadata": {
      "needs_background": "light"
     },
     "output_type": "display_data"
    }
   ],
   "source": [
    "sns.boxplot(x='hora_do_dia', y='valor_da_conta', data=gorjetas)"
   ]
  },
  {
   "cell_type": "code",
   "execution_count": 15,
   "id": "ce717509",
   "metadata": {},
   "outputs": [],
   "source": [
    "almoco = gorjetas.query(\"hora_do_dia == 'Almoço'\").valor_da_conta"
   ]
  },
  {
   "cell_type": "code",
   "execution_count": 20,
   "id": "281bfed2",
   "metadata": {},
   "outputs": [
    {
     "data": {
      "text/plain": [
       "<AxesSubplot:xlabel='valor_da_conta', ylabel='Density'>"
      ]
     },
     "execution_count": 20,
     "metadata": {},
     "output_type": "execute_result"
    },
    {
     "data": {
      "image/png": "[encoded data removed]",
      "text/plain": [
       "<Figure size 432x288 with 1 Axes>"
      ]
     },
     "metadata": {
      "needs_background": "light"
     },
     "output_type": "display_data"
    }
   ],
   "source": [
    "sns.distplot(jantar)"
   ]
  },
  {
   "cell_type": "code",
   "execution_count": 17,
   "id": "e9989eea",
   "metadata": {},
   "outputs": [
    {
     "name": "stderr",
     "output_type": "stream",
     "text": [
      "C:\\Users\\rgrso\\anaconda3\\envs\\seguro\\lib\\site-packages\\seaborn\\distributions.py:2619: FutureWarning: `distplot` is a deprecated function and will be removed in a future version. Please adapt your code to use either `displot` (a figure-level function with similar flexibility) or `histplot` (an axes-level function for histograms).\n",
      "  warnings.warn(msg, FutureWarning)\n"
     ]
    },
    {
     "data": {
      "text/plain": [
       "<AxesSubplot:xlabel='valor_da_conta'>"
      ]
     },
     "execution_count": 17,
     "metadata": {},
     "output_type": "execute_result"
    },
    {
     "data": {
      "image/png": "[encoded data removed]",
      "text/plain": [
       "<Figure size 432x288 with 1 Axes>"
      ]
     },
     "metadata": {
      "needs_background": "light"
     },
     "output_type": "display_data"
    }
   ],
   "source": [
    "sns.distplot(almoco, kde=False)"
   ]
  },
  {
   "cell_type": "code",
   "execution_count": 18,
   "id": "053048b3",
   "metadata": {},
   "outputs": [],
   "source": [
    "jantar = gorjetas.query(\"hora_do_dia == 'Jantar'\").valor_da_conta"
   ]
  },
  {
   "cell_type": "code",
   "execution_count": 21,
   "id": "8318030c",
   "metadata": {},
   "outputs": [
    {
     "name": "stderr",
     "output_type": "stream",
     "text": [
      "C:\\Users\\rgrso\\anaconda3\\envs\\seguro\\lib\\site-packages\\seaborn\\distributions.py:2619: FutureWarning: `distplot` is a deprecated function and will be removed in a future version. Please adapt your code to use either `displot` (a figure-level function with similar flexibility) or `histplot` (an axes-level function for histograms).\n",
      "  warnings.warn(msg, FutureWarning)\n"
     ]
    },
    {
     "data": {
      "text/plain": [
       "<AxesSubplot:xlabel='valor_da_conta', ylabel='Density'>"
      ]
     },
     "execution_count": 21,
     "metadata": {},
     "output_type": "execute_result"
    },
    {
     "data": {
      "image/png": "[encoded data removed]",
      "text/plain": [
       "<Figure size 432x288 with 1 Axes>"
      ]
     },
     "metadata": {
      "needs_background": "light"
     },
     "output_type": "display_data"
    }
   ],
   "source": [
    "sns.distplot(jantar)"
   ]
  },
  {
   "cell_type": "code",
   "execution_count": 19,
   "id": "6345389e",
   "metadata": {},
   "outputs": [
    {
     "data": {
      "text/plain": [
       "<AxesSubplot:xlabel='valor_da_conta'>"
      ]
     },
     "execution_count": 19,
     "metadata": {},
     "output_type": "execute_result"
    },
    {
     "data": {
      "image/png": "[encoded data removed]",
      "text/plain": [
       "<Figure size 432x288 with 1 Axes>"
      ]
     },
     "metadata": {
      "needs_background": "light"
     },
     "output_type": "display_data"
    }
   ],
   "source": [
    "sns.distplot(jantar, kde=False)"
   ]
  },
  {
   "cell_type": "code",
   "execution_count": 22,
   "id": "6d89e835",
   "metadata": {},
   "outputs": [
    {
     "name": "stderr",
     "output_type": "stream",
     "text": [
      "C:\\Users\\rgrso\\anaconda3\\envs\\seguro\\lib\\site-packages\\seaborn\\distributions.py:2619: FutureWarning: `distplot` is a deprecated function and will be removed in a future version. Please adapt your code to use either `displot` (a figure-level function with similar flexibility) or `histplot` (an axes-level function for histograms).\n",
      "  warnings.warn(msg, FutureWarning)\n"
     ]
    },
    {
     "data": {
      "text/plain": [
       "<AxesSubplot:xlabel='valor_da_conta'>"
      ]
     },
     "execution_count": 22,
     "metadata": {},
     "output_type": "execute_result"
    },
    {
     "data": {
      "image/png": "[encoded data removed]",
      "text/plain": [
       "<Figure size 432x288 with 1 Axes>"
      ]
     },
     "metadata": {
      "needs_background": "light"
     },
     "output_type": "display_data"
    }
   ],
   "source": [
    "almoco = gorjetas.query(\"hora_do_dia == 'Almoço'\").valor_da_conta\n",
    "sns.distplot(jantar, kde=False)"
   ]
  },
  {
   "cell_type": "code",
   "execution_count": 23,
   "id": "20d27bfd",
   "metadata": {},
   "outputs": [
    {
     "data": {
      "text/html": [
       "<div>\n",
       "<style scoped>\n",
       "    .dataframe tbody tr th:only-of-type {\n",
       "        vertical-align: middle;\n",
       "    }\n",
       "\n",
       "    .dataframe tbody tr th {\n",
       "        vertical-align: top;\n",
       "    }\n",
       "\n",
       "    .dataframe thead th {\n",
       "        text-align: right;\n",
       "    }\n",
       "</style>\n",
       "<table border=\"1\" class=\"dataframe\">\n",
       "  <thead>\n",
       "    <tr style=\"text-align: right;\">\n",
       "      <th></th>\n",
       "      <th>valor_da_conta</th>\n",
       "      <th>gorjeta</th>\n",
       "      <th>porcentagem</th>\n",
       "    </tr>\n",
       "    <tr>\n",
       "      <th>hora_do_dia</th>\n",
       "      <th></th>\n",
       "      <th></th>\n",
       "      <th></th>\n",
       "    </tr>\n",
       "  </thead>\n",
       "  <tbody>\n",
       "    <tr>\n",
       "      <th>Almoço</th>\n",
       "      <td>17.168676</td>\n",
       "      <td>2.728088</td>\n",
       "      <td>0.164128</td>\n",
       "    </tr>\n",
       "    <tr>\n",
       "      <th>Jantar</th>\n",
       "      <td>20.797159</td>\n",
       "      <td>3.102670</td>\n",
       "      <td>0.159518</td>\n",
       "    </tr>\n",
       "  </tbody>\n",
       "</table>\n",
       "</div>"
      ],
      "text/plain": [
       "             valor_da_conta   gorjeta  porcentagem\n",
       "hora_do_dia                                       \n",
       "Almoço            17.168676  2.728088     0.164128\n",
       "Jantar            20.797159  3.102670     0.159518"
      ]
     },
     "execution_count": 23,
     "metadata": {},
     "output_type": "execute_result"
    }
   ],
   "source": [
    "gorjetas.groupby(['hora_do_dia']).mean()[['valor_da_conta', 'gorjeta', 'porcentagem']]"
   ]
  },
  {
   "cell_type": "markdown",
   "id": "3d3f1666",
   "metadata": {},
   "source": [
    "### Teste de Hipótese "
   ]
  },
  {
   "cell_type": "markdown",
   "id": "3c95acb7",
   "metadata": {},
   "source": [
    "H<sup>null</sup>\n",
    ">**A distribuição do valor da conta é igual no jantar e no almoço**"
   ]
  },
  {
   "cell_type": "markdown",
   "id": "f73ff238",
   "metadata": {},
   "source": [
    "H<sup>alt</sup>\n",
    ">**A distribuição do valor da conta não é igual no jantar e no almoço**"
   ]
  },
  {
   "cell_type": "code",
   "execution_count": 24,
   "id": "cd900021",
   "metadata": {},
   "outputs": [],
   "source": [
    "r2 = ranksums(jantar, almoco)"
   ]
  },
  {
   "cell_type": "code",
   "execution_count": 25,
   "id": "d12e77f5",
   "metadata": {},
   "outputs": [
    {
     "name": "stdout",
     "output_type": "stream",
     "text": [
      "O Valor do p.value é de 0.0011791039723641672\n"
     ]
    }
   ],
   "source": [
    "print('O Valor do p.value é de {}'.format(r2.pvalue))"
   ]
  },
  {
   "cell_type": "markdown",
   "id": "311a3fd9",
   "metadata": {},
   "source": [
    "H<sup>alt</sup>\n",
    ">**A distribuição do valor da conta não é igual no jantar e no almoço**"
   ]
  },
  {
   "cell_type": "code",
   "execution_count": 26,
   "id": "a11dd19d",
   "metadata": {},
   "outputs": [],
   "source": [
    "porcentagem_almoco = gorjetas.query(\"hora_do_dia == 'Almoço'\").porcentagem"
   ]
  },
  {
   "cell_type": "code",
   "execution_count": 27,
   "id": "c8b92d2e",
   "metadata": {},
   "outputs": [],
   "source": [
    "porcentagem_jantar = gorjetas.query(\"hora_do_dia == 'Jantar'\").porcentagem"
   ]
  },
  {
   "cell_type": "markdown",
   "id": "563953cc",
   "metadata": {},
   "source": [
    "### Teste de Hipótese II"
   ]
  },
  {
   "cell_type": "markdown",
   "id": "a2fa24c4",
   "metadata": {},
   "source": [
    "H<sup>null</sup>\n",
    ">**A distribuição da taxa da gorjete é igual no jantar e no almoço**"
   ]
  },
  {
   "cell_type": "markdown",
   "id": "7d1c88af",
   "metadata": {},
   "source": [
    "H<sup>alt</sup>\n",
    ">**A distribuição da taxa da gorjeta não é igual no jantar e no almoço**"
   ]
  },
  {
   "cell_type": "code",
   "execution_count": 30,
   "id": "cb9f4ebb",
   "metadata": {},
   "outputs": [],
   "source": [
    "r3 = ranksums(porcentagem_almoco, porcentagem_jantar)"
   ]
  },
  {
   "cell_type": "code",
   "execution_count": 29,
   "id": "ebf1ba88",
   "metadata": {},
   "outputs": [
    {
     "name": "stdout",
     "output_type": "stream",
     "text": [
      "O valor do p-value é de 0.23027859883366675\n"
     ]
    }
   ],
   "source": [
    "r3 = ranksums(porcentagem_almoco, porcentagem_jantar)\n",
    "print('O valor do p-value é de {}'.format(r3.pvalue))"
   ]
  },
  {
   "cell_type": "markdown",
   "id": "c0684dd0",
   "metadata": {},
   "source": [
    "H<sup>null</sup>\n",
    ">**A distribuição da taxa da gorjete é igual no jantar e no almoço**"
   ]
  },
  {
   "cell_type": "code",
   "execution_count": null,
   "id": "27de67b4",
   "metadata": {},
   "outputs": [],
   "source": []
  }
 ],
 "metadata": {
  "kernelspec": {
   "display_name": "Python 3 (ipykernel)",
   "language": "python",
   "name": "python3"
  },
  "language_info": {
   "codemirror_mode": {
    "name": "ipython",
    "version": 3
   },
   "file_extension": ".py",
   "mimetype": "text/x-python",
   "name": "python",
   "nbconvert_exporter": "python",
   "pygments_lexer": "ipython3",
   "version": "3.10.4"
  }
 },
 "nbformat": 4,
 "nbformat_minor": 5
}
